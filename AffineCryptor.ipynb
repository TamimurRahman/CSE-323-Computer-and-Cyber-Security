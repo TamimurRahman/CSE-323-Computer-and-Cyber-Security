{
  "nbformat": 4,
  "nbformat_minor": 0,
  "metadata": {
    "colab": {
      "provenance": [],
      "authorship_tag": "ABX9TyPmV6sj4GBpR7p+4Vs5dRgh",
      "include_colab_link": true
    },
    "kernelspec": {
      "name": "python3",
      "display_name": "Python 3"
    },
    "language_info": {
      "name": "python"
    }
  },
  "cells": [
    {
      "cell_type": "markdown",
      "metadata": {
        "id": "view-in-github",
        "colab_type": "text"
      },
      "source": [
        "<a href=\"https://colab.research.google.com/github/TamimurRahman/CSE-323-Computer-and-Cyber-Security/blob/main/AffineCryptor.ipynb\" target=\"_parent\"><img src=\"https://colab.research.google.com/assets/colab-badge.svg\" alt=\"Open In Colab\"/></a>"
      ]
    },
    {
      "cell_type": "code",
      "execution_count": null,
      "metadata": {
        "colab": {
          "base_uri": "https://localhost:8080/"
        },
        "id": "7YxTtAA3kzat",
        "outputId": "1d9e043c-24d1-4f24-8853-34610495a35f"
      },
      "outputs": [
        {
          "output_type": "stream",
          "name": "stdout",
          "text": [
            "Enter plaintext: hi my name is tamimur\n",
            "Enter multiplicative key (a): 17\n",
            "Enter additive key (b): 20\n",
            "Add random noise to ciphertext? (y/n): y\n",
            "Encrypted text: hi my name is tamimur\n",
            "Decrypted text: \n"
          ]
        }
      ],
      "source": [
        "import random\n",
        "import math\n",
        "\n",
        "# Function to find the modular inverse of 'a' under modulo 'm'\n",
        "def mod_inverse(a, m):\n",
        "    a = a % m\n",
        "    for x in range(1, m):\n",
        "        if (a * x) % m == 1:\n",
        "            return x\n",
        "    return -1  # No modular inverse exists\n",
        "\n",
        "# Encryption function\n",
        "def encrypt(plaintext, a, b, alphabet, add_noise=False):\n",
        "    ciphertext = \"\"\n",
        "    n = len(alphabet)\n",
        "    random.seed()  # Seed for random noise\n",
        "    for ch in plaintext:\n",
        "        if ch in alphabet:\n",
        "            index = alphabet.index(ch)\n",
        "            # Apply the affine encryption formula\n",
        "            encrypted_char = alphabet[(a * index + b) % n]\n",
        "            ciphertext += encrypted_char\n",
        "            # Optionally add noise\n",
        "            if add_noise and random.randint(0, 1) == 0:\n",
        "                ciphertext += random.choice(alphabet)\n",
        "        else:\n",
        "            ciphertext += ch  # Keep non-alphabet characters unchanged\n",
        "    return ciphertext\n",
        "\n",
        "# Decryption function\n",
        "def decrypt(ciphertext, a, b, alphabet, remove_noise=False):\n",
        "    plaintext = \"\"\n",
        "    n = len(alphabet)\n",
        "    a_inv = mod_inverse(a, n)  # Find modular inverse of 'a'\n",
        "    if a_inv == -1:\n",
        "        print(\"Multiplicative inverse of 'a' doesn't exist. Decryption not possible.\")\n",
        "        return \"\"\n",
        "    for ch in ciphertext:\n",
        "        if ch in alphabet:\n",
        "            index = alphabet.index(ch)\n",
        "            # Apply the affine decryption formula\n",
        "            decrypted_char = alphabet[(a_inv * (index - b + n)) % n]\n",
        "            plaintext += decrypted_char\n",
        "        elif not remove_noise:\n",
        "            plaintext += ch  # Keep non-alphabet characters unchanged\n",
        "    return plaintext\n",
        "\n",
        "# Main function\n",
        "def main():\n",
        "    custom_alphabet = \"ABCDEFGHIJKLMNOPQRSTUVWXYZ\"\n",
        "    plaintext = input(\"Enter plaintext: \")\n",
        "    a = int(input(\"Enter multiplicative key (a): \"))\n",
        "    b = int(input(\"Enter additive key (b): \"))\n",
        "\n",
        "    # Check 'a' validity\n",
        "    if math.gcd(a, len(custom_alphabet)) != 1:\n",
        "        print(\"'a' must be coprime with the alphabet size. Please choose a valid key.\")\n",
        "        return\n",
        "\n",
        "    # Optionally add noise\n",
        "    noise_choice = input(\"Add random noise to ciphertext? (y/n): \").lower()\n",
        "    add_noise = noise_choice == 'y'\n",
        "\n",
        "    # Encrypt and decrypt\n",
        "    ciphertext = encrypt(plaintext, a, b, custom_alphabet, add_noise)\n",
        "    print(\"Encrypted text:\", ciphertext)\n",
        "\n",
        "    decrypted_text = decrypt(ciphertext, a, b, custom_alphabet, add_noise)\n",
        "    print(\"Decrypted text:\", decrypted_text)\n",
        "\n",
        "if __name__ == \"__main__\":\n",
        "    main()\n"
      ]
    },
    {
      "cell_type": "code",
      "source": [
        "def encrypt_affine(plain_text,k1,k2):\n",
        "\n",
        "    cipher = \"\"\n",
        "    for char in plain_text:\n",
        "        if char != ' ':  # If the character is not a space\n",
        "            # Convert character to uppercase ASCII, apply formula, then back to a character\n",
        "            #print(((k1 * (ord(char.upper()) - ord('A')) + k2) % 26))\n",
        "            encrypted_char = chr((k1 * (ord(char.upper()) - ord('A')) + k2) % 26 + ord('A'))\n",
        "            cipher += encrypted_char\n",
        "        else:\n",
        "            cipher += char  # Keep spaces as they are\n",
        "    print(f'affine encryption: {cipher}')\n",
        "    caser_cipher_encrypt(cipher)\n",
        "\n",
        "\n",
        "def caser_cipher_encrypt(plain_text):\n",
        "    key = int(input(\"Enter the key: \"))\n",
        "    encrypted_char = \"\"\n",
        "    caser_cipher = \"\"\n",
        "    for char in plain_text:\n",
        "        #print(f'char: {char}')\n",
        "        if char != ' ':  # If the character is not a space\n",
        "            encrypted_char = chr(((ord(char.upper()) - ord('A'))+key)%26 + ord('A'))\n",
        "            caser_cipher += encrypted_char\n",
        "        else:\n",
        "            caser_cipher += char  # Keep spaces as they are\n",
        "    print(caser_cipher)\n",
        "    caser_cipher_decrypt(caser_cipher,key)\n",
        "\n",
        "def caser_cipher_decrypt(plain_text,key):\n",
        "    decrypted_char = \"\"\n",
        "    for char in plain_text:\n",
        "        if char !=' ':\n",
        "           decrypted_char += chr(((ord(char.upper()) - ord('A'))-key)%26 + ord('A'))\n",
        "        else:\n",
        "          decrypted_char += char\n",
        "\n",
        "    affine_cipher_decryption(decrypted_char)\n",
        "\n",
        "def affine_cipher_decryption(cipher_text):\n",
        "    decrypted_char = \"\"\n",
        "    a_inv = 0\n",
        "    flag = 0\n",
        "    for i in range(0,26):\n",
        "      flag = (k1*i)%26\n",
        "      if flag == 1:\n",
        "        a_inv = i\n",
        "\n",
        "    for char in cipher_text:\n",
        "\n",
        "       if char !=' ':\n",
        "          decrypted_char += chr((a_inv*(ord(char)+ord('A')-k2))%26 + ord('A'))\n",
        "       else:\n",
        "         decrypted_char+= char\n",
        "\n",
        "    print(f'The decrypted messeage: {decrypted_char}')\n",
        "\n",
        "\n",
        "main_msg = \"Hy my name is tamimur\"\n",
        "k1 = int(input('Enter the first key: '))\n",
        "k2 = int(input('Enter the second key: '))\n",
        "encrypt_affine(main_msg,k1,k2)\n",
        "#2cipher_text = caser_cipher_decrypt()\n",
        "#ciphrt_text = sentence_split(main_msg)"
      ],
      "metadata": {
        "id": "dm-fgEdAk6l1",
        "colab": {
          "base_uri": "https://localhost:8080/"
        },
        "outputId": "1634458f-c5ed-4679-d5ce-1f3e823128d2"
      },
      "execution_count": 18,
      "outputs": [
        {
          "output_type": "stream",
          "name": "stdout",
          "text": [
            "Enter the first key: 17\n",
            "Enter the second key: 20\n",
            "affine encryption: JM QM HUQK AO FUQAQWX\n",
            "Enter the key: 3\n",
            "MP TP KXTN DR IXTDTZA\n",
            "The decrypted messeage: HY MY NAME IS TAMIMUR\n"
          ]
        }
      ]
    },
    {
      "cell_type": "code",
      "source": [
        "#A python program to illustrate Caesar Cipher Technique\n",
        "def encrypt(text,s):\n",
        "    result = \"\"\n",
        "\n",
        "    # traverse text\n",
        "    for i in range(len(text)):\n",
        "        char = text[i]\n",
        "\n",
        "        # Encrypt uppercase characters\n",
        "        if (char.isupper()):\n",
        "            result += chr((ord(char) + s-65) % 26 + 65)\n",
        "\n",
        "        # Encrypt lowercase characters\n",
        "        else:\n",
        "            result += chr((ord(char) + s - 97) % 26 + 97)\n",
        "\n",
        "    return result\n",
        "\n",
        "#check the above function\n",
        "text = \"hi my name is tamim\"\n",
        "s = 4\n",
        "print (\"Text  : \" + text)\n",
        "print (\"Shift : \" + str(s))\n",
        "print (\"Cipher: \" + encrypt(text,s))"
      ],
      "metadata": {
        "id": "Teu9JP1Kxl5_",
        "outputId": "db6d73c6-cf0b-4a87-9cf9-7d70bc3f65d2",
        "colab": {
          "base_uri": "https://localhost:8080/"
        }
      },
      "execution_count": 8,
      "outputs": [
        {
          "output_type": "stream",
          "name": "stdout",
          "text": [
            "Text  : hi my name is tamim\n",
            "Shift : 4\n",
            "Cipher: lmrqcrreqirmwrxeqmq\n"
          ]
        }
      ]
    },
    {
      "cell_type": "code",
      "source": [],
      "metadata": {
        "id": "S6bTTvygkUuI",
        "outputId": "220ac2ad-bfff-48e9-919b-ec5e9dbbeed9",
        "colab": {
          "base_uri": "https://localhost:8080/",
          "height": 367
        }
      },
      "execution_count": 2,
      "outputs": [
        {
          "output_type": "error",
          "ename": "TclError",
          "evalue": "no display name and no $DISPLAY environment variable",
          "traceback": [
            "\u001b[0;31m---------------------------------------------------------------------------\u001b[0m",
            "\u001b[0;31mTclError\u001b[0m                                  Traceback (most recent call last)",
            "\u001b[0;32m<ipython-input-2-fe5f346084fe>\u001b[0m in \u001b[0;36m<cell line: 2>\u001b[0;34m()\u001b[0m\n\u001b[1;32m      1\u001b[0m \u001b[0;32mfrom\u001b[0m \u001b[0mtkinter\u001b[0m \u001b[0;32mimport\u001b[0m \u001b[0;34m*\u001b[0m\u001b[0;34m\u001b[0m\u001b[0;34m\u001b[0m\u001b[0m\n\u001b[0;32m----> 2\u001b[0;31m \u001b[0mroot\u001b[0m \u001b[0;34m=\u001b[0m \u001b[0mTk\u001b[0m\u001b[0;34m(\u001b[0m\u001b[0;34m)\u001b[0m\u001b[0;34m\u001b[0m\u001b[0;34m\u001b[0m\u001b[0m\n\u001b[0m\u001b[1;32m      3\u001b[0m \u001b[0mmyLable\u001b[0m \u001b[0;34m=\u001b[0m \u001b[0mLabel\u001b[0m\u001b[0;34m(\u001b[0m\u001b[0mroot\u001b[0m\u001b[0;34m,\u001b[0m\u001b[0mtext\u001b[0m\u001b[0;34m=\u001b[0m\u001b[0;34m\"Hello world\"\u001b[0m\u001b[0;34m)\u001b[0m\u001b[0;34m\u001b[0m\u001b[0;34m\u001b[0m\u001b[0m\n\u001b[1;32m      4\u001b[0m \u001b[0;34m\u001b[0m\u001b[0m\n\u001b[1;32m      5\u001b[0m \u001b[0mmyLabel\u001b[0m\u001b[0;34m.\u001b[0m\u001b[0mpack\u001b[0m\u001b[0;34m(\u001b[0m\u001b[0;34m)\u001b[0m\u001b[0;34m\u001b[0m\u001b[0;34m\u001b[0m\u001b[0m\n",
            "\u001b[0;32m/usr/lib/python3.10/tkinter/__init__.py\u001b[0m in \u001b[0;36m__init__\u001b[0;34m(self, screenName, baseName, className, useTk, sync, use)\u001b[0m\n\u001b[1;32m   2297\u001b[0m                 \u001b[0mbaseName\u001b[0m \u001b[0;34m=\u001b[0m \u001b[0mbaseName\u001b[0m \u001b[0;34m+\u001b[0m \u001b[0mext\u001b[0m\u001b[0;34m\u001b[0m\u001b[0;34m\u001b[0m\u001b[0m\n\u001b[1;32m   2298\u001b[0m         \u001b[0minteractive\u001b[0m \u001b[0;34m=\u001b[0m \u001b[0;32mFalse\u001b[0m\u001b[0;34m\u001b[0m\u001b[0;34m\u001b[0m\u001b[0m\n\u001b[0;32m-> 2299\u001b[0;31m         \u001b[0mself\u001b[0m\u001b[0;34m.\u001b[0m\u001b[0mtk\u001b[0m \u001b[0;34m=\u001b[0m \u001b[0m_tkinter\u001b[0m\u001b[0;34m.\u001b[0m\u001b[0mcreate\u001b[0m\u001b[0;34m(\u001b[0m\u001b[0mscreenName\u001b[0m\u001b[0;34m,\u001b[0m \u001b[0mbaseName\u001b[0m\u001b[0;34m,\u001b[0m \u001b[0mclassName\u001b[0m\u001b[0;34m,\u001b[0m \u001b[0minteractive\u001b[0m\u001b[0;34m,\u001b[0m \u001b[0mwantobjects\u001b[0m\u001b[0;34m,\u001b[0m \u001b[0museTk\u001b[0m\u001b[0;34m,\u001b[0m \u001b[0msync\u001b[0m\u001b[0;34m,\u001b[0m \u001b[0muse\u001b[0m\u001b[0;34m)\u001b[0m\u001b[0;34m\u001b[0m\u001b[0;34m\u001b[0m\u001b[0m\n\u001b[0m\u001b[1;32m   2300\u001b[0m         \u001b[0;32mif\u001b[0m \u001b[0museTk\u001b[0m\u001b[0;34m:\u001b[0m\u001b[0;34m\u001b[0m\u001b[0;34m\u001b[0m\u001b[0m\n\u001b[1;32m   2301\u001b[0m             \u001b[0mself\u001b[0m\u001b[0;34m.\u001b[0m\u001b[0m_loadtk\u001b[0m\u001b[0;34m(\u001b[0m\u001b[0;34m)\u001b[0m\u001b[0;34m\u001b[0m\u001b[0;34m\u001b[0m\u001b[0m\n",
            "\u001b[0;31mTclError\u001b[0m: no display name and no $DISPLAY environment variable"
          ]
        }
      ]
    }
  ]
}