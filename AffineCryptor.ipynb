{
  "nbformat": 4,
  "nbformat_minor": 0,
  "metadata": {
    "colab": {
      "provenance": [],
      "authorship_tag": "ABX9TyPumdzFnw/k8PP2Zuj4+nri",
      "include_colab_link": true
    },
    "kernelspec": {
      "name": "python3",
      "display_name": "Python 3"
    },
    "language_info": {
      "name": "python"
    }
  },
  "cells": [
    {
      "cell_type": "markdown",
      "metadata": {
        "id": "view-in-github",
        "colab_type": "text"
      },
      "source": [
        "<a href=\"https://colab.research.google.com/github/TamimurRahman/CSE-323-Computer-and-Cyber-Security/blob/main/AffineCryptor.ipynb\" target=\"_parent\"><img src=\"https://colab.research.google.com/assets/colab-badge.svg\" alt=\"Open In Colab\"/></a>"
      ]
    },
    {
      "cell_type": "code",
      "execution_count": 1,
      "metadata": {
        "colab": {
          "base_uri": "https://localhost:8080/"
        },
        "id": "7YxTtAA3kzat",
        "outputId": "1d9e043c-24d1-4f24-8853-34610495a35f"
      },
      "outputs": [
        {
          "output_type": "stream",
          "name": "stdout",
          "text": [
            "Enter plaintext: hi my name is tamimur\n",
            "Enter multiplicative key (a): 17\n",
            "Enter additive key (b): 20\n",
            "Add random noise to ciphertext? (y/n): y\n",
            "Encrypted text: hi my name is tamimur\n",
            "Decrypted text: \n"
          ]
        }
      ],
      "source": [
        "import random\n",
        "import math\n",
        "\n",
        "# Function to find the modular inverse of 'a' under modulo 'm'\n",
        "def mod_inverse(a, m):\n",
        "    a = a % m\n",
        "    for x in range(1, m):\n",
        "        if (a * x) % m == 1:\n",
        "            return x\n",
        "    return -1  # No modular inverse exists\n",
        "\n",
        "# Encryption function\n",
        "def encrypt(plaintext, a, b, alphabet, add_noise=False):\n",
        "    ciphertext = \"\"\n",
        "    n = len(alphabet)\n",
        "    random.seed()  # Seed for random noise\n",
        "    for ch in plaintext:\n",
        "        if ch in alphabet:\n",
        "            index = alphabet.index(ch)\n",
        "            # Apply the affine encryption formula\n",
        "            encrypted_char = alphabet[(a * index + b) % n]\n",
        "            ciphertext += encrypted_char\n",
        "            # Optionally add noise\n",
        "            if add_noise and random.randint(0, 1) == 0:\n",
        "                ciphertext += random.choice(alphabet)\n",
        "        else:\n",
        "            ciphertext += ch  # Keep non-alphabet characters unchanged\n",
        "    return ciphertext\n",
        "\n",
        "# Decryption function\n",
        "def decrypt(ciphertext, a, b, alphabet, remove_noise=False):\n",
        "    plaintext = \"\"\n",
        "    n = len(alphabet)\n",
        "    a_inv = mod_inverse(a, n)  # Find modular inverse of 'a'\n",
        "    if a_inv == -1:\n",
        "        print(\"Multiplicative inverse of 'a' doesn't exist. Decryption not possible.\")\n",
        "        return \"\"\n",
        "    for ch in ciphertext:\n",
        "        if ch in alphabet:\n",
        "            index = alphabet.index(ch)\n",
        "            # Apply the affine decryption formula\n",
        "            decrypted_char = alphabet[(a_inv * (index - b + n)) % n]\n",
        "            plaintext += decrypted_char\n",
        "        elif not remove_noise:\n",
        "            plaintext += ch  # Keep non-alphabet characters unchanged\n",
        "    return plaintext\n",
        "\n",
        "# Main function\n",
        "def main():\n",
        "    custom_alphabet = \"ABCDEFGHIJKLMNOPQRSTUVWXYZ\"\n",
        "    plaintext = input(\"Enter plaintext: \")\n",
        "    a = int(input(\"Enter multiplicative key (a): \"))\n",
        "    b = int(input(\"Enter additive key (b): \"))\n",
        "\n",
        "    # Check 'a' validity\n",
        "    if math.gcd(a, len(custom_alphabet)) != 1:\n",
        "        print(\"'a' must be coprime with the alphabet size. Please choose a valid key.\")\n",
        "        return\n",
        "\n",
        "    # Optionally add noise\n",
        "    noise_choice = input(\"Add random noise to ciphertext? (y/n): \").lower()\n",
        "    add_noise = noise_choice == 'y'\n",
        "\n",
        "    # Encrypt and decrypt\n",
        "    ciphertext = encrypt(plaintext, a, b, custom_alphabet, add_noise)\n",
        "    print(\"Encrypted text:\", ciphertext)\n",
        "\n",
        "    decrypted_text = decrypt(ciphertext, a, b, custom_alphabet, add_noise)\n",
        "    print(\"Decrypted text:\", decrypted_text)\n",
        "\n",
        "if __name__ == \"__main__\":\n",
        "    main()\n"
      ]
    },
    {
      "cell_type": "code",
      "source": [
        "def encrypt_affine(plain_text,k1,k2):\n",
        "\n",
        "    cipher = \"\"\n",
        "    for char in plain_text:\n",
        "        if char != ' ':  # If the character is not a space\n",
        "            # Convert character to uppercase ASCII, apply formula, then back to a character\n",
        "            print(((k1 * (ord(char.upper()) - ord('A')) + k2) % 26))\n",
        "            encrypted_char = chr((k1 * (ord(char.upper()) - ord('A')) + k2) % 26 + ord('A'))\n",
        "            cipher += encrypted_char\n",
        "        else:\n",
        "            cipher += char  # Keep spaces as they are\n",
        "\n",
        "    return cipher\n",
        "\n",
        "\n",
        "\n",
        "\n",
        "\n",
        "\n",
        "main_msg = \"Hy my name is tamimur\"\n",
        "k1 = int(input('Enter the first key: '))\n",
        "k2 = int(input('Enter the second key: '))\n",
        "cipher_text = encrypt_affine(main_msg,k1,k2)\n",
        "print(cipher_text)\n",
        "#ciphrt_text = sentence_split(main_msg)"
      ],
      "metadata": {
        "id": "dm-fgEdAk6l1"
      },
      "execution_count": null,
      "outputs": []
    }
  ]
}